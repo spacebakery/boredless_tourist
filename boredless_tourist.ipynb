{
 "cells": [
  {
   "cell_type": "markdown",
   "id": "30fd32f1",
   "metadata": {},
   "source": [
    "## PROJECT: The Boredless Tourist\n"
   ]
  },
  {
   "cell_type": "markdown",
   "id": "7167b85c",
   "metadata": {},
   "source": [
    "## Part 1: Data setup for testing"
   ]
  },
  {
   "cell_type": "code",
   "execution_count": 2,
   "id": "89324824",
   "metadata": {},
   "outputs": [],
   "source": [
    "# destinations data\n",
    "destinations = ['Paris, France',  # index 0\n",
    "                'Shanghai, China',  # index 1\n",
    "                'Los Angeles, USA',  # index 2\n",
    "                'Sao Paulo, Brazil',  # index 3\n",
    "                'Cairo, Egypt']  # index 4\n",
    "\n",
    "# test traveler data\n",
    "test_traveler = ['Erin Wilkes', 'Shanghai, China', ['historical site', 'art']]\n"
   ]
  },
  {
   "cell_type": "markdown",
   "id": "81376269",
   "metadata": {},
   "source": [
    "## Part 2: Travelling To Faraway Lands\n"
   ]
  },
  {
   "cell_type": "code",
   "execution_count": 18,
   "id": "a20941a9",
   "metadata": {},
   "outputs": [],
   "source": [
    "# func: get destination\n",
    "def get_destination_index(destination):\n",
    "  destination_index = destinations.index(destination)\n",
    "  return destination_index\n"
   ]
  },
  {
   "cell_type": "code",
   "execution_count": null,
   "id": "e41529de",
   "metadata": {},
   "outputs": [],
   "source": [
    "# func: get traveler location\n",
    "def get_traveler_location(traveler):\n",
    "  traveler_destination = traveler[1]\n",
    "  traveler_destination_index = get_destination_index(traveler_destination)\n",
    "  return traveler_destination_index\n"
   ]
  },
  {
   "cell_type": "markdown",
   "id": "cb897c25",
   "metadata": {},
   "source": [
    "### Test function: get_destination_index"
   ]
  },
  {
   "cell_type": "code",
   "execution_count": 3,
   "id": "d7c93330",
   "metadata": {},
   "outputs": [
    {
     "name": "stdout",
     "output_type": "stream",
     "text": [
      "2\n",
      "0\n"
     ]
    }
   ],
   "source": [
    "print(get_destination_index('Los Angeles, USA'))\n",
    "print(get_destination_index('Paris, France'))\n",
    "# print(get_destination_index('Hyderabad, India')) ValueError, value does not exist.\n"
   ]
  },
  {
   "cell_type": "markdown",
   "id": "72d05df7",
   "metadata": {},
   "source": [
    "### Test function: get_traveler_location"
   ]
  },
  {
   "cell_type": "code",
   "execution_count": 4,
   "id": "e6e421db",
   "metadata": {},
   "outputs": [
    {
     "name": "stdout",
     "output_type": "stream",
     "text": [
      "1\n"
     ]
    }
   ],
   "source": [
    "test_destination_index = get_traveler_location(test_traveler)\n",
    "print(test_destination_index)"
   ]
  },
  {
   "cell_type": "markdown",
   "id": "c4bc4ee3",
   "metadata": {},
   "source": [
    "## Part 3: Visiting Interesting Places"
   ]
  },
  {
   "cell_type": "code",
   "execution_count": 5,
   "id": "25d0fbe3",
   "metadata": {},
   "outputs": [
    {
     "name": "stdout",
     "output_type": "stream",
     "text": [
      "[[], [], [], [], []]\n"
     ]
    }
   ],
   "source": [
    "# create empty attraction lists\n",
    "attractions = [list() for x in destinations]\n",
    "print(attractions)\n"
   ]
  },
  {
   "cell_type": "code",
   "execution_count": null,
   "id": "42b0218c",
   "metadata": {},
   "outputs": [],
   "source": [
    "# func: add attraction\n",
    "def add_attraction(destination, attraction):\n",
    "  try:\n",
    "    destination_index = get_destination_index(destination)\n",
    "    attractions_for_destination = attractions[destination_index].append(attraction)\n",
    "\n",
    "  except ValueError:\n",
    "    print('Value_error: Could not retrieve \"{}\" in list of destinations.'.format(destination))\n",
    "    pass\n"
   ]
  },
  {
   "cell_type": "markdown",
   "id": "033b8142",
   "metadata": {},
   "source": [
    "### Test function: add_attraction"
   ]
  },
  {
   "cell_type": "code",
   "execution_count": null,
   "id": "41acf701",
   "metadata": {},
   "outputs": [
    {
     "name": "stdout",
     "output_type": "stream",
     "text": [
      "[[], [], [], [], []]\n",
      "[[], [], [], [], []]\n",
      "Value_error: Could not retrieve \"Barcelona, Spain\" in list of destinations.\n"
     ]
    }
   ],
   "source": [
    "add_attraction('Los Angeles, USA', ['Venice Beach', ['beach']])\n",
    "print(attractions)\n",
    "\n",
    "# add more attractions\n",
    "add_attraction(\"Paris, France\", [\"the Louvre\", [\"art\", \"museum\"]])\n",
    "add_attraction(\"Paris, France\", [\"Arc de Triomphe\", [\"historical site\", \"monument\"]])\n",
    "add_attraction(\"Shanghai, China\", [\"Yu Garden\", [\"garden\", \"historical site\"]])\n",
    "add_attraction(\"Shanghai, China\", [\"Yuz Museum\", [\"art\", \"museum\"]])\n",
    "add_attraction(\"Shanghai, China\", [\"Oriental Pearl Tower\", [\"skyscraper\", \"viewing deck\"]])\n",
    "add_attraction(\"Los Angeles, USA\", [\"LACMA\", [\"art\", \"museum\"]])\n",
    "add_attraction(\"Sao Paulo, Brazil\", [\"Sao Paulo Zoo\", [\"zoo\"]])\n",
    "add_attraction(\"Sao Paulo, Brazil\", [\"Patio do Colegio\", [\"historical site\"]])\n",
    "add_attraction(\"Cairo, Egypt\", [\"Pyramids of Giza\", [\"monument\", \"historical site\"]])\n",
    "add_attraction(\"Cairo, Egypt\", [\"Egyptian Museum\", [\"museum\"]])\n",
    "\n",
    "print(attractions)\n"
   ]
  },
  {
   "cell_type": "code",
   "execution_count": null,
   "id": "ae485294",
   "metadata": {},
   "outputs": [],
   "source": [
    "# test error handling for destination out of scope\n",
    "add_attraction(\"Barcelona, Spain\", [\"Museu Nacional d\\'Art de Catalunya\", [\"museum\"]])\n",
    "print(attractions)"
   ]
  },
  {
   "cell_type": "markdown",
   "id": "1d9e27b7",
   "metadata": {},
   "source": [
    "## Part 4: Finding the Best Places to Go"
   ]
  },
  {
   "cell_type": "code",
   "execution_count": null,
   "id": "4e17952f",
   "metadata": {},
   "outputs": [],
   "source": [
    "# func: find attractions\n",
    "def find_attractions(destination, interests):\n",
    "  destination_index = get_destination_index(destination)\n",
    "  attractions_in_city = attractions[destination_index]\n",
    "\n",
    "  attraction_with_interest = []\n",
    "  for possible_attraction in attractions_in_city:\n",
    "    attraction_tags = possible_attraction[1]\n",
    "    for interest in interests:\n",
    "      if interest in attraction_tags:\n",
    "        attraction_with_interest.append(possible_attraction[0])\n",
    "  return attraction_with_interest\n"
   ]
  },
  {
   "cell_type": "markdown",
   "id": "98fed08b",
   "metadata": {},
   "source": [
    "### Test function: find_attractions"
   ]
  },
  {
   "cell_type": "code",
   "execution_count": 7,
   "id": "0d6f40c7",
   "metadata": {},
   "outputs": [
    {
     "name": "stdout",
     "output_type": "stream",
     "text": [
      "['LACMA', 'LACMA']\n",
      "['Venice Beach', 'LACMA', 'LACMA', 'Venice Beach', 'LACMA', 'LACMA']\n"
     ]
    }
   ],
   "source": [
    "la_arts = find_attractions('Los Angeles, USA', ['art'])\n",
    "print(la_arts)\n",
    "\n",
    "la_arts = find_attractions('Los Angeles, USA', ['art', 'beach', 'museum'])\n",
    "print(la_arts)\n"
   ]
  },
  {
   "cell_type": "markdown",
   "id": "179c5314",
   "metadata": {},
   "source": [
    "## Part 5: See The Parts of a City You want to See"
   ]
  },
  {
   "cell_type": "code",
   "execution_count": null,
   "id": "6d3d0e7b",
   "metadata": {},
   "outputs": [],
   "source": [
    "# func: get attractions for traveler\n",
    "def get_attractions_for_traveler(traveler):\n",
    "  traveler_destination = traveler[1]\n",
    "  traveler_interests = traveler[2]\n",
    "  traveler_attractions = find_attractions(traveler_destination, traveler_interests)\n",
    "\n",
    "  interests_string = \"Hi \"\n",
    "\n",
    "  interests_string += \"{traveler_name}, we think you'll like these places around {destination}: the \".format(traveler_name=traveler[0], destination=traveler_destination)\n",
    "\n",
    "  for i in range(len(traveler_attractions)):\n",
    "    if i == 0:\n",
    "      interests_string += traveler_attractions[i]\n",
    "    else:\n",
    "      interests_string += ', the ' + traveler_attractions[i]\n",
    "\n",
    "  return interests_string"
   ]
  },
  {
   "cell_type": "markdown",
   "id": "d4766c50",
   "metadata": {},
   "source": [
    "### Test function: get_attractions_for_traveler"
   ]
  },
  {
   "cell_type": "code",
   "execution_count": 8,
   "id": "4240384f",
   "metadata": {},
   "outputs": [
    {
     "name": "stdout",
     "output_type": "stream",
     "text": [
      "Hi Erin Wilkes, we think you'll like these places around Shanghai, China: the Yu Garden, the Yuz Museum, the Yu Garden, the Yuz Museum\n",
      "Hi Dereck Smill, we think you'll like these places around Paris, France: the Arc de Triomphe, the Arc de Triomphe\n"
     ]
    }
   ],
   "source": [
    "attractions_test_traveler = get_attractions_for_traveler(test_traveler)\n",
    "print(attractions_test_traveler)\n",
    "\n",
    "attractions_smills_france = get_attractions_for_traveler(['Dereck Smill', 'Paris, France', ['monument']])\n",
    "print(attractions_smills_france)\n"
   ]
  }
 ],
 "metadata": {
  "kernelspec": {
   "display_name": "py313",
   "language": "python",
   "name": "python3"
  },
  "language_info": {
   "codemirror_mode": {
    "name": "ipython",
    "version": 3
   },
   "file_extension": ".py",
   "mimetype": "text/x-python",
   "name": "python",
   "nbconvert_exporter": "python",
   "pygments_lexer": "ipython3",
   "version": "3.13.3"
  }
 },
 "nbformat": 4,
 "nbformat_minor": 5
}
